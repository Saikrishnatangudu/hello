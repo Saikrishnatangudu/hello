{
 "cells": [
  {
   "cell_type": "markdown",
   "metadata": {},
   "source": [
    "\n",
    "### Find and Replace Application\n",
    "\n",
    "- Check if a word is existing in a file\n",
    "    - wordExists(filepath, word)\n",
    "- Count the total number of occurrences of a word in a file\n",
    "    - countWordOccurrences(filepath, word)\n",
    "- Replace all occurences of a word in a file\n",
    "    - replaceWord(filepath, word)\n",
    "    \n",
    "\n",
    "### Marks Analysis Report\n",
    "- Generate Marks\n",
    "    - generateMarks(n, lb, ub)\n",
    "- Generate a report of the following\n",
    "    - Class Average - classAverage(filepath)\n",
    "    - % Passed - passPercentage(filepath)\n",
    "    - % Failed - failPercentage(filepath)\n",
    "    - % Distinction - distinctionPercentage(filepath)\n",
    "    - Frequency of Highest mark - frequencyHighest(filepath)\n",
    "    - Frequency of lowest mark - frequencyLowest(filepath)\n",
    "    - GenerateReport(filepath):\n",
    "    \n",
    " ### Contacts Application\n",
    " - addContact(name, phone, email)\n",
    " - searchContact(name)\n",
    " - listContacts()\n",
    " - editContact(name, newphone, newemail)\n",
    " - deleteContact(name)\n",
    " - contactsApp()\n",
    "    \n"
   ]
  },
  {
   "cell_type": "code",
   "execution_count": 5,
   "metadata": {},
   "outputs": [],
   "source": [
    "#Generation of marks\n",
    "from random import randint\n",
    "def generatemarks(n,lb,ub):\n",
    "    filepath='datafiles/mark1.txt'\n",
    "    with open(filepath,'w') as f:\n",
    "        for i in range(0,n):\n",
    "            r=randint(lb,ub)\n",
    "            f.write(str(r)+'\\n')\n",
    "    print(n,\" Marks Stored/Generated  in file Sucessfully..!!\")\n",
    "    "
   ]
  },
  {
   "cell_type": "code",
   "execution_count": 6,
   "metadata": {
    "scrolled": true
   },
   "outputs": [
    {
     "data": {
      "text/plain": [
       "52.77142857142857"
      ]
     },
     "execution_count": 6,
     "metadata": {},
     "output_type": "execute_result"
    }
   ],
   "source": [
    "#Class Average - classAverage(filepath)\n",
    "# sum of marks/student count\n",
    "\n",
    "def classAverage(filepath):\n",
    "    sum=0\n",
    "    count=0\n",
    "    with open(filepath,'r') as f:\n",
    "        for i in f:\n",
    "            sum=sum+int(i)\n",
    "            count=count+1\n",
    "    return sum/count\n",
    "    \n",
    "classAverage('datafiles/mark1.txt')"
   ]
  },
  {
   "cell_type": "code",
   "execution_count": 7,
   "metadata": {},
   "outputs": [
    {
     "data": {
      "text/plain": [
       "74.28571428571429"
      ]
     },
     "execution_count": 7,
     "metadata": {},
     "output_type": "execute_result"
    }
   ],
   "source": [
    "#% Passed - passPercentage(filepath)\n",
    "#(passed count/total student count)*100\n",
    "def passpercentage(filepath):\n",
    "    count=0\n",
    "    mc=0\n",
    "    with open(filepath,'r') as f:\n",
    "        for i in f:\n",
    "            mc=mc+1\n",
    "            if(int(i)>=35):\n",
    "                count=count+1\n",
    "        return (count/mc)*100\n",
    "passpercentage('datafiles/mark1.txt')"
   ]
  },
  {
   "cell_type": "code",
   "execution_count": 8,
   "metadata": {},
   "outputs": [
    {
     "data": {
      "text/plain": [
       "25.71428571428571"
      ]
     },
     "execution_count": 8,
     "metadata": {},
     "output_type": "execute_result"
    }
   ],
   "source": [
    "#% failed - failedPercentage(filepath)\n",
    "#(failed count/total student count)*100\n",
    "def failedpercentage(filepath):\n",
    "    count=0\n",
    "    mc=0\n",
    "    with open(filepath,'r') as f:\n",
    "        for i in f:\n",
    "            mc=mc+1\n",
    "            if(int(i)<35):\n",
    "                count=count+1\n",
    "        return (count/mc)*100\n",
    "failedpercentage('datafiles/mark1.txt')"
   ]
  },
  {
   "cell_type": "code",
   "execution_count": 9,
   "metadata": {},
   "outputs": [
    {
     "name": "stdout",
     "output_type": "stream",
     "text": [
      "25.714285714285708\n"
     ]
    }
   ],
   "source": [
    "#% failed - failedPercentage(filepath)\n",
    "#(failed count/total student count)*100\n",
    "def failedpercentage2(filepath):\n",
    "    fcount=100-passpercentage(filepath)\n",
    "    print(fcount)\n",
    "failedpercentage2('datafiles/mark1.txt')"
   ]
  },
  {
   "cell_type": "code",
   "execution_count": 10,
   "metadata": {},
   "outputs": [
    {
     "data": {
      "text/plain": [
       "28.57142857142857"
      ]
     },
     "execution_count": 10,
     "metadata": {},
     "output_type": "execute_result"
    }
   ],
   "source": [
    "#% Distinction - distinctionPercentage(filepath)\n",
    "# total Distinction count/total students count *100\n",
    "def Distinction(filepath):\n",
    "    count=0\n",
    "    mc=0\n",
    "    with open(filepath,'r') as f:\n",
    "        for i in f:\n",
    "            mc+=1\n",
    "            if(int(i)>=75):\n",
    "                count+=1\n",
    "        return (count/mc)*100\n",
    "Distinction('datafiles/mark1.txt')"
   ]
  },
  {
   "cell_type": "code",
   "execution_count": 11,
   "metadata": {},
   "outputs": [
    {
     "data": {
      "text/plain": [
       "1"
      ]
     },
     "execution_count": 11,
     "metadata": {},
     "output_type": "execute_result"
    }
   ],
   "source": [
    "# Frequency of Highest mark - frequencyHighest(filepath)\n",
    "def frequencyHighest(filepath):\n",
    "    with open(filepath,'r') as f:\n",
    "        sp=f.read().split()\n",
    "        sp=list(map(int,sp))\n",
    "#         print(max(sp))\n",
    "        return sp.count(max(sp))\n",
    "frequencyHighest('datafiles/mark1.txt')\n",
    "        \n"
   ]
  },
  {
   "cell_type": "code",
   "execution_count": 12,
   "metadata": {},
   "outputs": [
    {
     "data": {
      "text/plain": [
       "1"
      ]
     },
     "execution_count": 12,
     "metadata": {},
     "output_type": "execute_result"
    }
   ],
   "source": [
    "# Frequency of Highest mark - frequencyHighest(filepath)\n",
    "def frequencylowest(filepath):\n",
    "    with open(filepath,'r') as f:\n",
    "        sp=f.read().split()\n",
    "        sp=list(map(int,sp))\n",
    "        return sp.count(min(sp))\n",
    "frequencylowest('datafiles/mark1.txt')"
   ]
  },
  {
   "cell_type": "code",
   "execution_count": 14,
   "metadata": {},
   "outputs": [
    {
     "name": "stdout",
     "output_type": "stream",
     "text": [
      "Choose option :\n",
      "1).Generation Marks\n",
      "2).Class Average\n",
      "3).passed Percentage\n",
      "4).Failed Percentage\n",
      "5).Dictintion percentage\n",
      "6).Frequency of highest\n",
      "7).Frequency of lowest\n",
      "1\n",
      "Enter No of Students marks20\n",
      "20  Marks Stored/Generated  in file Sucessfully..!!\n",
      "Choose option :\n",
      "1).Generation Marks\n",
      "2).Class Average\n",
      "3).passed Percentage\n",
      "4).Failed Percentage\n",
      "5).Dictintion percentage\n",
      "6).Frequency of highest\n",
      "7).Frequency of lowest\n",
      "2\n",
      "55.2\n",
      "Choose option :\n",
      "1).Generation Marks\n",
      "2).Class Average\n",
      "3).passed Percentage\n",
      "4).Failed Percentage\n",
      "5).Dictintion percentage\n",
      "6).Frequency of highest\n",
      "7).Frequency of lowest\n",
      "3\n",
      "80.0\n",
      "Choose option :\n",
      "1).Generation Marks\n",
      "2).Class Average\n",
      "3).passed Percentage\n",
      "4).Failed Percentage\n",
      "5).Dictintion percentage\n",
      "6).Frequency of highest\n",
      "7).Frequency of lowest\n",
      "4\n",
      "20.0\n",
      "Choose option :\n",
      "1).Generation Marks\n",
      "2).Class Average\n",
      "3).passed Percentage\n",
      "4).Failed Percentage\n",
      "5).Dictintion percentage\n",
      "6).Frequency of highest\n",
      "7).Frequency of lowest\n",
      "5\n",
      "20.0\n",
      "Choose option :\n",
      "1).Generation Marks\n",
      "2).Class Average\n",
      "3).passed Percentage\n",
      "4).Failed Percentage\n",
      "5).Dictintion percentage\n",
      "6).Frequency of highest\n",
      "7).Frequency of lowest\n",
      "6\n",
      "1\n",
      "Choose option :\n",
      "1).Generation Marks\n",
      "2).Class Average\n",
      "3).passed Percentage\n",
      "4).Failed Percentage\n",
      "5).Dictintion percentage\n",
      "6).Frequency of highest\n",
      "7).Frequency of lowest\n",
      "7\n",
      "1\n",
      "Choose option :\n",
      "1).Generation Marks\n",
      "2).Class Average\n",
      "3).passed Percentage\n",
      "4).Failed Percentage\n",
      "5).Dictintion percentage\n",
      "6).Frequency of highest\n",
      "7).Frequency of lowest\n",
      "8\n"
     ]
    }
   ],
   "source": [
    "def marksAnalysis(filepath):\n",
    "    while True:\n",
    "        n=int(input(\"Choose option :\\n1).Generation Marks\\n2).Class Average\\n3).passed Percentage\\n4).Failed Percentage\\n5).Dictintion percentage\\n6).Frequency of highest\\n7).Frequency of lowest\\n\"))\n",
    "        if(n==1):\n",
    "            st=int(input(\"Enter No of Students marks\"))\n",
    "            generatemarks(st,1,100)\n",
    "        elif(n==2):\n",
    "            print(classAverage(filepath))\n",
    "        elif(n==3):\n",
    "            print(passpercentage(filepath))\n",
    "        elif(n==4):\n",
    "            print(failedpercentage(filepath))\n",
    "        elif(n==5):\n",
    "            print(Distinction(filepath))\n",
    "        elif(n==6):\n",
    "            print(frequencyHighest(filepath))\n",
    "        elif(n==7):\n",
    "            print(frequencylowest(filepath))\n",
    "        else:\n",
    "            break\n",
    "marksAnalysis('datafiles/mark1.txt')"
   ]
  },
  {
   "cell_type": "markdown",
   "metadata": {},
   "source": [
    "### Find and Replace Application\n",
    "\n",
    "- Check if a word is existing in a file\n",
    "    - wordExists(filepath, word)\n",
    "- Count the total number of occurrences of a word in a file\n",
    "    - countWordOccurrences(filepath, word)\n",
    "- Replace all occurences of a word in a file\n",
    "    - replaceWord(filepath, word)"
   ]
  },
  {
   "cell_type": "code",
   "execution_count": 34,
   "metadata": {},
   "outputs": [],
   "source": [
    "# Find and replace Application\n",
    "def findAndreplace(s):\n",
    "    with open(\"datafiles/data.txt\",\"r\") as f:\n",
    "        fi=f.read()\n",
    "        if s in fi.split():\n",
    "            fi=fi.replace(s,input(),fi.split().count(s))\n",
    "        else:\n",
    "            print(s,\"not found in the file\")\n",
    "        #print(fi)\n",
    "    with open(\"datafiles/data.txt\",\"w\") as f:\n",
    "        f.write(fi)\n",
    "    return \"The \"+s+\" has been successfully replaced\"\n",
    "\n",
    "#findAndreplace(input())"
   ]
  },
  {
   "cell_type": "code",
   "execution_count": 30,
   "metadata": {},
   "outputs": [
    {
     "data": {
      "text/plain": [
       "'The line3 word appears 1 times '"
      ]
     },
     "execution_count": 30,
     "metadata": {},
     "output_type": "execute_result"
    }
   ],
   "source": [
    "def totalOccurences(word):\n",
    "    with open(\"datafiles/data.txt\",\"r\") as f:\n",
    "        fi=f.read().split()\n",
    "        #print(fi)\n",
    "        for s in range(len(fi)):\n",
    "            #print(fi[s])\n",
    "            if fi[s] == word:\n",
    "                return \"The \"+word+\" word appears \"+str(fi.count(word))+\" times \"\n",
    "        return word+\" not found in the file\" \n",
    "totalOccurences(\"line3\")"
   ]
  },
  {
   "cell_type": "code",
   "execution_count": null,
   "metadata": {},
   "outputs": [
    {
     "name": "stdout",
     "output_type": "stream",
     "text": [
      "please select the one of the below options:\n",
      "\n",
      "1. Count the total no of occcurrences of a word\n",
      "2. If word is existing\n",
      "3. Replace all occurrences of a word with another word\n",
      "3\n",
      "enter a word you want to replace:sai\n",
      "venkatasai\n",
      "The sai has been successfully replaced\n"
     ]
    }
   ],
   "source": [
    "def menu():\n",
    "    print(\"please select the one of the below options:\")\n",
    "    print()\n",
    "    print(\"1. Count the total no of occcurrences of a word\")\n",
    "    print(\"2. If word is existing\")\n",
    "    print(\"3. Replace all occurrences of a word with another word\")\n",
    "    while True:\n",
    "    \n",
    "        g = int(input())\n",
    "        if g == 1 or g==2:\n",
    "            word=input(\"enter a word you want to search:\")\n",
    "            print(totalOccurences(word))\n",
    "        if g == 3:\n",
    "            word=input(\"enter a word you want to replace:\") \n",
    "            print(findAndreplace(word))\n",
    "        else:\n",
    "            break\n",
    "\n",
    "menu()"
   ]
  },
  {
   "cell_type": "code",
   "execution_count": null,
   "metadata": {},
   "outputs": [],
   "source": []
  },
  {
   "cell_type": "code",
   "execution_count": 4,
   "metadata": {},
   "outputs": [
    {
     "data": {
      "text/plain": [
       "True"
      ]
     },
     "execution_count": 4,
     "metadata": {},
     "output_type": "execute_result"
    }
   ],
   "source": [
    "#function to check given strings are anagrams\n",
    "def checkanagrams(s1,s2):\n",
    "    if len(s1)!=len(s2):\n",
    "        return False\n",
    "    if sorted(s1)==sorted(s2):\n",
    "        return True\n",
    "    return False\n",
    "\n",
    "checkanagrams('abc','cba')\n",
    "\n",
    "\n",
    "\n"
   ]
  },
  {
   "cell_type": "code",
   "execution_count": 16,
   "metadata": {},
   "outputs": [
    {
     "name": "stdout",
     "output_type": "stream",
     "text": [
      "2\n",
      "aabbccgg\n",
      "abcdg\n",
      "5\n",
      "hhsh\n",
      "hdhdh\n",
      "3\n"
     ]
    }
   ],
   "source": [
    "from collections import Counter\n",
    "def deletions(word1, word2):\n",
    "    c_word1 = Counter(word1)\n",
    "    c_word2 = Counter(word2)\n",
    "    c_word1.subtract(c_word2)\n",
    "    return sum(abs(i) for i in c_word1.values())\n",
    "\n",
    "t = int(input())\n",
    "while t>0:\n",
    "    word1 = input()\n",
    "    word2 = input()\n",
    "    print(deletions(word1,word2))\n",
    "    t -= 1"
   ]
  },
  {
   "cell_type": "code",
   "execution_count": null,
   "metadata": {},
   "outputs": [],
   "source": [
    "#count the number of deletions to make given string an anagram\n",
    "\n",
    "def anagram(a,b):\n",
    "    c=0\n",
    "    for i in set(a):\n",
    "        if a.count(i)==b.count(i):\n",
    "            c += a.count(i)\n",
    "        else:\n",
    "            c += min([a.count(i),b.count(i)])\n",
    "    print(len(a)  + len(b) - 2  * c)\n",
    "t = int(input())\n",
    "for i in range(t):\n",
    "    a=input()\n",
    "    b=input()\n",
    "    anagram(a,b)  \n"
   ]
  },
  {
   "cell_type": "code",
   "execution_count": null,
   "metadata": {},
   "outputs": [],
   "source": []
  }
 ],
 "metadata": {
  "kernelspec": {
   "display_name": "Python 3",
   "language": "python",
   "name": "python3"
  },
  "language_info": {
   "codemirror_mode": {
    "name": "ipython",
    "version": 3
   },
   "file_extension": ".py",
   "mimetype": "text/x-python",
   "name": "python",
   "nbconvert_exporter": "python",
   "pygments_lexer": "ipython3",
   "version": "3.7.3"
  }
 },
 "nbformat": 4,
 "nbformat_minor": 2
}
