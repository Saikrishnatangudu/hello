{
 "cells": [
  {
   "cell_type": "markdown",
   "metadata": {},
   "source": [
    "### problem solving and programming\n",
    "##### 12th june 2019\n",
    "###### day objectives"
   ]
  },
  {
   "cell_type": "code",
   "execution_count": null,
   "metadata": {},
   "outputs": [],
   "source": []
  },
  {
   "cell_type": "markdown",
   "metadata": {},
   "source": [
    "#### string slicing"
   ]
  },
  {
   "cell_type": "code",
   "execution_count": null,
   "metadata": {},
   "outputs": [],
   "source": [
    "a1=\"saikrishna\"\n",
    "a1[0]\n",
    "a1[len(a1)-1]\n",
    "a1[-2]\n",
    "a1[1:-1]\n",
    "a1[len(a1)//2]\n",
    "a1[-1::-1]\n",
    "a1[-1:-3:-1]\n",
    "\n",
    "a1[:2]"
   ]
  },
  {
   "cell_type": "markdown",
   "metadata": {},
   "source": [
    "#### functions"
   ]
  },
  {
   "cell_type": "code",
   "execution_count": null,
   "metadata": {},
   "outputs": [],
   "source": [
    "def  plindrome(s):\n",
    "    if s==s[::-1]:\n",
    "        return True\n",
    "    else:\n",
    "        return False\n",
    "plindrome('123321')"
   ]
  },
  {
   "cell_type": "code",
   "execution_count": null,
   "metadata": {},
   "outputs": [],
   "source": [
    "def checkleapyear(year):\n",
    "    if (year % 400 ==0 ) or (year %100!=0) and (year %4==0):\n",
    "        return True\n",
    "    return False\n",
    "checkleapyear(2020)"
   ]
  },
  {
   "cell_type": "code",
   "execution_count": null,
   "metadata": {},
   "outputs": [],
   "source": [
    "#count the nunber of digits in number\n",
    "def digi(h):\n",
    "    k=len(str(h))\n",
    "    return k\n",
    "digi(1234556)\n",
    "    "
   ]
  },
  {
   "cell_type": "code",
   "execution_count": 53,
   "metadata": {},
   "outputs": [
    {
     "data": {
      "text/plain": [
       "243"
      ]
     },
     "execution_count": 53,
     "metadata": {},
     "output_type": "execute_result"
    }
   ],
   "source": [
    "#greatest of numbers\n",
    "def greatest4(n1,n2,n3,n4):\n",
    "    if n1>n2 and n1>n3 and n1>n4:\n",
    "        return n1\n",
    "    elif n2>n3 and n2>n4:\n",
    "        return n2\n",
    "    elif n3>n4:\n",
    "        return n3\n",
    "    else:\n",
    "        return n4\n",
    "greatest4(1,34,243,6)\n",
    "    "
   ]
  },
  {
   "cell_type": "markdown",
   "metadata": {},
   "source": [
    "### ITERATION\n",
    "* FOR\n",
    "* WHILE"
   ]
  },
  {
   "cell_type": "code",
   "execution_count": 11,
   "metadata": {
    "scrolled": true
   },
   "outputs": [
    {
     "name": "stdout",
     "output_type": "stream",
     "text": [
      "1 2 3 4 5 6 7 8 9 10 "
     ]
    }
   ],
   "source": [
    "#N NATURAL NUMBERS\n",
    "def printnaturalnumbers(n):\n",
    "    for i in range(1,n+1):\n",
    "        print(i,end=\" \")\n",
    "    return\n",
    " \n",
    "printnaturalnumbers(10)"
   ]
  },
  {
   "cell_type": "code",
   "execution_count": null,
   "metadata": {},
   "outputs": [],
   "source": [
    "def printnaturalnumbers(n):\n",
    "    c=1\n",
    "    while c<=n:\n",
    "        print(c)\n",
    "        c=c+1\n",
    "    return"
   ]
  },
  {
   "cell_type": "markdown",
   "metadata": {},
   "source": [
    "### Problem Set\n",
    "* Function to print all numbers divisible by 6 and not a factor of 100 in a given range(lb, ub) inclusive\n",
    "* Function to find the average of cubes of all even numbers in a given range(lb, ub) inclusive\n",
    "* Function to generate the list of factors for a given number\n",
    "* Function to calculate the factorial of a given number\n",
    "* Function to check if a given number is Prime\n",
    "* Function to calculate the average first N Prime numbers\n",
    "* Function to generate all Perfect numbers in a given range"
   ]
  },
  {
   "cell_type": "code",
   "execution_count": 40,
   "metadata": {},
   "outputs": [
    {
     "name": "stdout",
     "output_type": "stream",
     "text": [
      "102 108 114 120 126 132 138 144 150 156 162 168 174 180 186 192 198 "
     ]
    }
   ],
   "source": [
    "#Function to print all numbers divisible by 6 and not a factor of 100 in a given range(lb, ub) inclusive\n",
    "\n",
    "def printallnumbers(l,u):\n",
    "   for i in range(l,u+1):\n",
    "       if (i % 6==0) and (100 % i!=0):\n",
    "          print(i, end=\" \")\n",
    "   return\n",
    "printallnumbers(100,200)"
   ]
  },
  {
   "cell_type": "code",
   "execution_count": null,
   "metadata": {},
   "outputs": [],
   "source": [
    "#Function to find the average of cubes of all even numbers in a given range(lb, ub) inclusive\n",
    "def printcubesnumbers(lb,ub):\n",
    "   count=0\n",
    "   sum=0\n",
    "   for i in range(lb,ub+1):\n",
    "       if i%2==0:\n",
    "           #print(i)\n",
    "           k=i**3\n",
    "           #print(k)\n",
    "           count=count+1\n",
    "           sum=sum+k\n",
    "           #print(k)\n",
    "           #print(sum)\n",
    "           #print(count)\n",
    "   p=sum/count\n",
    "   return p\n",
    "printcubesnumbers(1,10)"
   ]
  },
  {
   "cell_type": "code",
   "execution_count": null,
   "metadata": {},
   "outputs": [],
   "source": [
    "#Function to generate the list of factors for a given number\n",
    "def printfactors(n):\n",
    "   for i in range(1,n+1):\n",
    "       if n%i==0:\n",
    "           print(i)\n",
    "   return\n",
    "printfactors(122)"
   ]
  },
  {
   "cell_type": "code",
   "execution_count": 41,
   "metadata": {},
   "outputs": [
    {
     "name": "stdout",
     "output_type": "stream",
     "text": [
      "enter 1st no  : 5\n"
     ]
    },
    {
     "data": {
      "text/plain": [
       "120"
      ]
     },
     "execution_count": 41,
     "metadata": {},
     "output_type": "execute_result"
    }
   ],
   "source": [
    "#Function to calculate the factorial of a given number\n",
    "def fact():\n",
    "    s=1\n",
    "    l=int(input('enter number : '))\n",
    "    for i in range(1,l+1):\n",
    "        s=s*i\n",
    "    return s\n",
    "fact()"
   ]
  },
  {
   "cell_type": "code",
   "execution_count": 44,
   "metadata": {},
   "outputs": [
    {
     "name": "stdout",
     "output_type": "stream",
     "text": [
      "enter 1st no  : 4\n"
     ]
    },
    {
     "data": {
      "text/plain": [
       "True"
      ]
     },
     "execution_count": 44,
     "metadata": {},
     "output_type": "execute_result"
    }
   ],
   "source": [
    "#Function to check if a given number is Prime\n",
    "\n"
   ]
  },
  {
   "cell_type": "code",
   "execution_count": 46,
   "metadata": {},
   "outputs": [
    {
     "name": "stdout",
     "output_type": "stream",
     "text": [
      "enter 1st no  : 1\n",
      "enter 2nd no  : 10\n"
     ]
    },
    {
     "data": {
      "text/plain": [
       "4.25"
      ]
     },
     "execution_count": 46,
     "metadata": {},
     "output_type": "execute_result"
    }
   ],
   "source": [
    "#Function to calculate the average first N Prime numbers\n",
    "def primeaverage():\n",
    "    \n",
    "    l=int(input('enter 1st no  : '))\n",
    "    u=int(input('enter 2nd no  : '))\n",
    "    sum=0\n",
    "    count=0\n",
    "    for num in range(l,u + 1):\n",
    "        if num > 1:\n",
    "           for i in range(2,num):\n",
    "              #print(i)\n",
    "              if (num % i) == 0:\n",
    "                   break\n",
    "           else:\n",
    "            #print(num)\n",
    "            sum=sum+num\n",
    "            count=count+1\n",
    "    return (sum/count)\n",
    "    \n",
    "primeaverage()"
   ]
  },
  {
   "cell_type": "code",
   "execution_count": 47,
   "metadata": {},
   "outputs": [
    {
     "name": "stdout",
     "output_type": "stream",
     "text": [
      "6 28 496 "
     ]
    }
   ],
   "source": [
    "#Function to generate all Perfect numbers in a given range\n",
    "\n",
    "def factors_sum(i):\n",
    "   sum=0\n",
    "   for j in range(1,i):\n",
    "       if i%j==0:\n",
    "           sum+=j\n",
    "   return sum\n",
    "def perfect(lb,ub):\n",
    "   sum=0\n",
    "   for i in range(lb,ub):\n",
    "       x=factors_sum(i)\n",
    "       if i==x:\n",
    "           print(i,end=\" \")\n",
    "   return\n",
    "perfect(1,1500)"
   ]
  },
  {
   "cell_type": "code",
   "execution_count": null,
   "metadata": {},
   "outputs": [],
   "source": []
  },
  {
   "cell_type": "markdown",
   "metadata": {},
   "source": [
    "##### Advanced Problem Set( Optional )\n",
    "* Function to calculate average of all factorials in a given range\n",
    "* Function to generate N odd armstrong numbers \n",
    "* Function to generate Multiplication table for a number in a given range\n",
    "    10 in the range(100, 102) inclusive\n",
    "    10 x 100 = 1000\n",
    "    10 x 101 = 1010\n",
    "    10 x 102 = 1020"
   ]
  },
  {
   "cell_type": "code",
   "execution_count": 39,
   "metadata": {},
   "outputs": [
    {
     "name": "stdout",
     "output_type": "stream",
     "text": [
      "enter 1st no  : 1\n",
      "enter 2nd no  : 5\n"
     ]
    },
    {
     "data": {
      "text/plain": [
       "30.6"
      ]
     },
     "execution_count": 39,
     "metadata": {},
     "output_type": "execute_result"
    }
   ],
   "source": [
    "#Function to calculate average of all factorials in a given range\n",
    "def factaverage():\n",
    "    s=1\n",
    "    sum=0\n",
    "    l=int(input('enter 1st no  : '))\n",
    "    u=int(input('enter 2nd no  : '))\n",
    "    for i in range(1,u+1):\n",
    "        s=s*i\n",
    "        #print(s)\n",
    "        sum=sum+s\n",
    "    return sum/u\n",
    "factaverage()"
   ]
  },
  {
   "cell_type": "code",
   "execution_count": 60,
   "metadata": {},
   "outputs": [
    {
     "name": "stdout",
     "output_type": "stream",
     "text": [
      "enter 1st no  : 1\n",
      "enter 2nd no  : 1000\n",
      "1 3 5 7 9 153 371 407 "
     ]
    }
   ],
   "source": [
    "#Function to generate N odd armstrong numbers\n",
    "def oddarmstrong():\n",
    "    l=int(input('enter 1st no  : '))\n",
    "    u=int(input('enter 2nd no  : '))\n",
    "    sum=0\n",
    "    \n",
    "    for i in range(l,u+1):\n",
    "        t=i\n",
    "        sum=0\n",
    "        o=len(str(i))\n",
    "        while (t>0):\n",
    "            sum=sum+(t%10)**o\n",
    "            t=t//10\n",
    "        if i==sum:\n",
    "            if(sum%2==1):\n",
    "                print (sum,end=\" \")\n",
    "\n",
    "oddarmstrong()\n",
    "            \n",
    "    \n",
    "    \n",
    "    "
   ]
  },
  {
   "cell_type": "code",
   "execution_count": 63,
   "metadata": {},
   "outputs": [
    {
     "name": "stdout",
     "output_type": "stream",
     "text": [
      "100 * 1 =  100\n"
     ]
    }
   ],
   "source": [
    "''''Function to generate Multiplication table for a number in a given range\n",
    "    10 in the range(100, 102) inclusive\n",
    "    10 x 100 = 1000\n",
    "    10 x 101 = 1010\n",
    "    10 x 102 = 1020'''\n",
    "def mult(n,lb,ub):\n",
    "    for i in range(lb,ub+1):\n",
    "        print(n,\"*\",i,\"= \",n*i)\n",
    "    return\n",
    "mult(100,1,1)\n"
   ]
  },
  {
   "cell_type": "code",
   "execution_count": null,
   "metadata": {},
   "outputs": [],
   "source": [
    "# Function to generate the leap years in a given time period\n",
    "def leaplist(lb,ub):\n",
    "    \n",
    "    for i in range(lb,ub+1):\n",
    "        if isLeapYear(i):\n",
    "            print(i,end=\" \")\n",
    "    return\n",
    "\n",
    "leaplist(2000,2019)"
   ]
  },
  {
   "cell_type": "code",
   "execution_count": null,
   "metadata": {},
   "outputs": [],
   "source": [
    "# Calculate the number of days in a given time period\n",
    "def daysinleap(lb,ub):\n",
    "    countly=0\n",
    "    for i in range(lb,ub+1):\n",
    "        if isLeapYear(i):\n",
    "            countly=countly+1\n",
    "        else:\n",
    "            countny=countny+1\n",
    "    return countny*365+countly*366\n",
    "daysinleap(1976,1998)"
   ]
  },
  {
   "cell_type": "code",
   "execution_count": null,
   "metadata": {},
   "outputs": [],
   "source": [
    "#Function to calculate number of hours for a given period\n",
    "#(11,1975,3,1999)\n"
   ]
  }
 ],
 "metadata": {
  "kernelspec": {
   "display_name": "Python 3",
   "language": "python",
   "name": "python3"
  },
  "language_info": {
   "codemirror_mode": {
    "name": "ipython",
    "version": 3
   },
   "file_extension": ".py",
   "mimetype": "text/x-python",
   "name": "python",
   "nbconvert_exporter": "python",
   "pygments_lexer": "ipython3",
   "version": "3.7.3"
  }
 },
 "nbformat": 4,
 "nbformat_minor": 2
}
