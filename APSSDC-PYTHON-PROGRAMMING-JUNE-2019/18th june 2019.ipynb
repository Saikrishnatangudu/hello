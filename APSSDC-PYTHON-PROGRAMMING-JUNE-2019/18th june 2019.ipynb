{
 "cells": [
  {
   "cell_type": "code",
   "execution_count": null,
   "metadata": {},
   "outputs": [],
   "source": [
    "##### play with numbers\n",
    "n=input().split()\n",
    "n[0],n[1]=int(n[0]),int(n[1])\n",
    "a=input().split()\n",
    "sum=[]\n",
    "for i in range (0,n[0]):\n",
    "    if i==0:\n",
    "        sum.append(int(a[i]))\n",
    "    else:\n",
    "        sum.append((int(sum[i-1]))+int(a[i]))\n",
    "#print(sum[n[0])\n",
    "#read each query and calculate the average\n",
    "for i in range(0,n[1]):\n",
    "    inq=input().split()\n",
    "    i=int(inq[0])\n",
    "    j=int(inq[1])\n",
    "    if i>1:\n",
    "        print((sum[j-1]-sum[i-2])//(j-i+1))\n",
    "    else:\n",
    "        print(sum[j-1]//(j-i+1))\n",
    "    "
   ]
  },
  {
   "cell_type": "code",
   "execution_count": null,
   "metadata": {},
   "outputs": [],
   "source": [
    "###### function to determine special number or not\n",
    "def isspecialnumber(n,p):\n",
    "    if numberprimefactors(n) >=p:\n",
    "        return True\n",
    "    return False\n",
    "\n",
    "def isprime(n):\n",
    "    flag=1\n",
    "    if n==2:\n",
    "        return True\n",
    "    for i in range (2,n//2+1):\n",
    "        if n%i==0:\n",
    "            flag=0\n",
    "            return False\n",
    "    if flag==1:\n",
    "        return True\n",
    "        \n",
    "#isprime(97)        \n",
    "def numberprimefactors(n):\n",
    "    if isprime(n):\n",
    "        return 1\n",
    "    count=0\n",
    "    for i in range(2,n//2+1):\n",
    "        if isprime(i) and n%i ==0:\n",
    "            count+=1\n",
    "    return count\n",
    "numberprimefactors(30)\n",
    "\n",
    "#isspecialnumber(6,2)   \n",
    "def solution():\n",
    "    p=int(input())\n",
    "    t=int(input())\n",
    "    for i in range(0,t):\n",
    "        n=int(input())\n",
    "        if isspecialnumber(n,p):\n",
    "            print(\"YES\")\n",
    "        else:\n",
    "            print(\"NO\")\n",
    "solution()\n",
    "\n"
   ]
  },
  {
   "cell_type": "code",
   "execution_count": null,
   "metadata": {},
   "outputs": [],
   "source": [
    "#highest remainder\n",
    "def highrem(n):\n",
    "    hr=0\n",
    "    v=n\n",
    "    for i in range(n-1,n//2,-1):\n",
    "        r=n%i\n",
    "        if r>hr:\n",
    "            hr=r\n",
    "            v=i\n",
    "    print(v)\n",
    "    return\n",
    "highrem(30)\n"
   ]
  },
  {
   "cell_type": "code",
   "execution_count": null,
   "metadata": {},
   "outputs": [],
   "source": [
    "l=[9,46,6,98,8,7]\n",
    "len(l)\n",
    "k=[]\n",
    "for i in range(0,len(l)//2):\n",
    "    print (l[i])\n",
    "    if l[i]>l[0]:\n",
    "        k.append(l[i])\n",
    "print(k)\n",
    "\n",
    "\n",
    "\n"
   ]
  },
  {
   "cell_type": "markdown",
   "metadata": {},
   "source": [
    "## Tuples\n",
    "t1=()\n",
    "\n",
    "li=[]\n",
    "\n",
    "\n",
    "Difference between Lists and Tuples\n",
    "\n",
    "Lists are mutable -can be changes or modified\n",
    " - used to acess modify ,add delete data\n",
    " \n",
    "Tuples are immutable -cannot be changed once intitialised\n",
    "- used to access data only\n",
    "- all slicing operations can be done\n",
    "\n",
    "\n",
    "\n",
    "\n",
    "\n",
    "\n",
    "\n",
    "\n",
    "\n",
    "\n",
    "\n",
    "\n",
    "\n",
    "\n",
    "\n",
    "\n",
    "\n",
    "\n",
    "\n",
    "\n",
    "\n",
    "\n",
    "\n",
    "\n",
    "\n",
    "\n",
    "\n",
    "\n",
    "\n",
    "\n",
    "\n"
   ]
  },
  {
   "cell_type": "code",
   "execution_count": null,
   "metadata": {},
   "outputs": [],
   "source": [
    "t1=(1,2,3,4,5,6,7,8)\n",
    "t1[3]#Accessing 4th element\n",
    "t1[len(t1)//2:]#accessing all element from middle to last\n",
    "type(t1)"
   ]
  },
  {
   "cell_type": "markdown",
   "metadata": {},
   "source": [
    "## Dictionaries \n",
    "\n",
    "It works on the concept of set\n",
    "\n",
    "Unique data\n",
    "\n",
    "Keys,Value\n",
    "\n",
    "key is a unique identifier  for a value\n",
    "\n",
    "value is data that can be accesed with a key\n",
    "\n"
   ]
  },
  {
   "cell_type": "code",
   "execution_count": null,
   "metadata": {},
   "outputs": [],
   "source": [
    "d1={}\n",
    "dir(d1)\n",
    "d1={\"k1\":\"value1\",\"k2\":\"value\"}\n",
    "#print(d1)\n",
    "d1.keys()#returns list of all keys- o/p:dict_keys(['k1', 'k2'])\n",
    "\n",
    "d1.values()#returns list of all values- o/p: dict_values(['value1', 'value'])\n",
    "\n",
    "d1.items()#returns list of tuples of keys and values - o/p:dict_items([('k1', 'value1'), ('k2', 'value')])\n",
    "\n",
    "d1[\"k3\"]=\"value2\" #adding an element- o/p {'k1': 'value1', 'k2': 'value', 'k3': 'value2'}\n",
    "\n",
    "d1[\"k3\"]=\"value4\"# updating an element -o/p:{'k1': 'value1', 'k2': 'value', 'k3': 'value4'}\n",
    "\n",
    "d1.pop(\"k3\")#removing an element o/p:value 4\n",
    "\"k2\" in d1\n"
   ]
  },
  {
   "cell_type": "markdown",
   "metadata": {},
   "source": [
    "### Contact Application\n",
    "- add contact\n",
    "- search for a contact\n",
    "- list all contact\n",
    "- modify contact\n",
    "- remove contacts"
   ]
  },
  {
   "cell_type": "code",
   "execution_count": null,
   "metadata": {},
   "outputs": [],
   "source": [
    "contacts={}"
   ]
  },
  {
   "cell_type": "code",
   "execution_count": null,
   "metadata": {
    "scrolled": false
   },
   "outputs": [],
   "source": [
    "\n",
    "def addcontact(name,phoneno):\n",
    "    #verify the contact doesnot already exist\n",
    "    if name not in contacts:\n",
    "        contacts[name]=phoneno\n",
    "        print(\"contact added\")\n",
    "    else:\n",
    "        print(\"contact is already exits\" ,name)\n",
    "        \n",
    "    return\n",
    "addcontact(\"sdai\",\"95428268777\")\n"
   ]
  },
  {
   "cell_type": "code",
   "execution_count": null,
   "metadata": {},
   "outputs": [],
   "source": [
    "def searchcontacts(name):\n",
    "    if name in contacts:\n",
    "        print(name,\":\",contacts[name])\n",
    "    else:\n",
    "        print(\"%s does not exists\"%name)\n",
    "searchcontacts(\"saikrishna\")"
   ]
  },
  {
   "cell_type": "code",
   "execution_count": null,
   "metadata": {},
   "outputs": [],
   "source": [
    "def removecontact(name):\n",
    "    if name in contacts:\n",
    "        contacts.pop(name)\n",
    "        print(\"%s contact is deleted\" %name)\n",
    "    else:\n",
    "        print(\"%s contact is not deleted\" %name)\n",
    "    return\n",
    "    \n",
    "removecontact(\"saikrishna\")\n"
   ]
  },
  {
   "cell_type": "code",
   "execution_count": null,
   "metadata": {},
   "outputs": [],
   "source": [
    "contacts"
   ]
  },
  {
   "cell_type": "code",
   "execution_count": null,
   "metadata": {},
   "outputs": [],
   "source": [
    "def listofcontacts(n):\n",
    "    for i in n.keys():\n",
    "        print(i,\":\",contacts[i])\n",
    "    return\n",
    "listofcontacts(contacts)\n"
   ]
  },
  {
   "cell_type": "markdown",
   "metadata": {},
   "source": [
    "## packages and modules\n",
    "\n",
    "** packages **--> colection of modules(python file.py)\n",
    "\n",
    "** subpackage**\n",
    "\n",
    "\n",
    "**module**--->a single python file contains \n",
    "\n",
    "\n",
    "package-->subpackages-->modules"
   ]
  },
  {
   "cell_type": "code",
   "execution_count": null,
   "metadata": {},
   "outputs": [],
   "source": [
    "import math\n",
    "math.floor(156.72389239896316363)\n",
    "#from math import floor\n",
    "#from math import floor,pi\n",
    "from math import floor as fl\n",
    "fl(123.8798)#o/p 123\n",
    "\n",
    "\n",
    "\n"
   ]
  },
  {
   "cell_type": "code",
   "execution_count": null,
   "metadata": {},
   "outputs": [],
   "source": [
    "#fuction to genrate n random numbers in a given range\n",
    "import random\n",
    "def ran(n,lb,ub):\n",
    "    for i in range(0,n):\n",
    "        print(random.randint(lb,ub),end=\" \")\n",
    "ran(100,0,10000)\n",
    "\n",
    "\n",
    "\n",
    "\n"
   ]
  },
  {
   "cell_type": "code",
   "execution_count": 9,
   "metadata": {},
   "outputs": [
    {
     "data": {
      "text/plain": [
       "True"
      ]
     },
     "execution_count": 9,
     "metadata": {},
     "output_type": "execute_result"
    }
   ],
   "source": [
    "from packages.numerical import isprime\n",
    "\n",
    "isprime(2)"
   ]
  },
  {
   "cell_type": "code",
   "execution_count": null,
   "metadata": {},
   "outputs": [],
   "source": []
  }
 ],
 "metadata": {
  "kernelspec": {
   "display_name": "Python 3",
   "language": "python",
   "name": "python3"
  },
  "language_info": {
   "codemirror_mode": {
    "name": "ipython",
    "version": 3
   },
   "file_extension": ".py",
   "mimetype": "text/x-python",
   "name": "python",
   "nbconvert_exporter": "python",
   "pygments_lexer": "ipython3",
   "version": "3.7.3"
  }
 },
 "nbformat": 4,
 "nbformat_minor": 2
}
