{
 "cells": [
  {
   "cell_type": "code",
   "execution_count": null,
   "metadata": {},
   "outputs": [],
   "source": [
    "#LOGIC 1 FOR COUNT THE NUMBERS AND CHARACTERS IN THE GIVEN STRING\n",
    "\n",
    "def countofdigits(s):\n",
    "    charcount=0\n",
    "    digitcount=0\n",
    "    for i in s:\n",
    "        if((i>='a'and i<='z')or (i>='A'and i<='Z')):\n",
    "            charcount=charcount+1\n",
    "        elif(i>='0' and i<='9'):\n",
    "            \n",
    "            digitcount=digitcount+1\n",
    "    print(charcount)\n",
    "    print(digitcount)\n",
    "\n",
    "s=input()\n",
    "countofdigits(s)\n",
    "\n",
    "#LOGIC 2\n",
    "\n",
    "def countofdigits(s):\n",
    "    charcount=0\n",
    "    digitcount=0\n",
    "    for i in range(0,len(s)):\n",
    "        if((s[i]>='a'and s[i]<='z')or (s[i]>='A'and s[i]<='Z')):\n",
    "            charcount=charcount+1\n",
    "        elif(s[i]>='0' and s[i]<='9'):\n",
    "            \n",
    "            digitcount=digitcount+1\n",
    "    print(charcount)\n",
    "    print(digitcount)\n",
    "\n",
    "s=input()\n",
    "countofdigits(s)\n",
    "\n",
    "#LOGIC 3\n",
    "\n",
    "\n",
    "def countofdigits(s):\n",
    "    charcount=0\n",
    "    digitcount=0\n",
    "    for i in range(0,len(s)):\n",
    "        if((ord(s[i])>=97 and ord(s[i])<=122)or (ord(s[i])>=65 and ord(s[i])<=90)):\n",
    "            charcount=charcount+1\n",
    "        elif(ord(s[i])>=48 and ord(s[i])<=57):\n",
    "            \n",
    "            digitcount=digitcount+1\n",
    "    print(charcount)\n",
    "    print(digitcount)\n",
    "\n",
    "s=input()\n",
    "countofdigits(s)\n",
    "\n",
    "\n"
   ]
  },
  {
   "cell_type": "code",
   "execution_count": null,
   "metadata": {},
   "outputs": [],
   "source": [
    "#SUM OF FACTORS \n",
    "def perfect(n):\n",
    "    sum=0\n",
    "    for i in range(1,n):\n",
    "        if(n%i==0):\n",
    "            sum=sum+i\n",
    "    if(n==sum):\n",
    "        return \"YES\"\n",
    "    else:\n",
    "        return \"NO\"\n",
    "       \n",
    "test=int(input())\n",
    "for i in range(test):\n",
    "    n=int(input())\n",
    "    print(perfect(n))"
   ]
  },
  {
   "cell_type": "code",
   "execution_count": null,
   "metadata": {},
   "outputs": [],
   "source": [
    "#MAXIMUM REMAINDER\n",
    "\n",
    "def divisibility(n):\n",
    "    r=0\n",
    "    for i in range(1,n):\n",
    "        rem=n%i      #5%1=0,  5%2=1,5%3=2,5%4=1\n",
    "        if rem>r:    #i>0   2>1   1!>2\n",
    "            r=rem    #r=1   r=2\n",
    "            j=i      #j=2   j=3\n",
    "    return j\n",
    "n1=int(input())\n",
    "for i in range(n1):\n",
    "    n2=int(input())\n",
    "    print(divisibility(n2))"
   ]
  },
  {
   "cell_type": "code",
   "execution_count": null,
   "metadata": {},
   "outputs": [],
   "source": []
  }
 ],
 "metadata": {
  "kernelspec": {
   "display_name": "Python 3",
   "language": "python",
   "name": "python3"
  },
  "language_info": {
   "codemirror_mode": {
    "name": "ipython",
    "version": 3
   },
   "file_extension": ".py",
   "mimetype": "text/x-python",
   "name": "python",
   "nbconvert_exporter": "python",
   "pygments_lexer": "ipython3",
   "version": "3.7.3"
  }
 },
 "nbformat": 4,
 "nbformat_minor": 2
}
