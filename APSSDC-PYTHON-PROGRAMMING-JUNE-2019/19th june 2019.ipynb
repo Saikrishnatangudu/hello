{
 "cells": [
  {
   "cell_type": "code",
   "execution_count": null,
   "metadata": {},
   "outputs": [],
   "source": [
    "def recursive():\n",
    "    p = int(input())\n",
    "    tot = 0\n",
    "    for j in range(p):\n",
    "        d = input().split()\n",
    "        a = int(d[0])\n",
    "        b = int(d[1])\n",
    "        tot =tot+(a * b)\n",
    "    if tot <= 9:\n",
    "        print(tot)\n",
    "    else:\n",
    "        while(tot>9):\n",
    "            check = list(str(tot))\n",
    "            check = [int(x) for x in check]\n",
    "            tot = sum(check)\n",
    "        print(tot)\n",
    "n = int(input())\n",
    "for i in range(n):\n",
    "     recursive()\n"
   ]
  },
  {
   "cell_type": "code",
   "execution_count": 9,
   "metadata": {
    "scrolled": false
   },
   "outputs": [
    {
     "name": "stdout",
     "output_type": "stream",
     "text": [
      "3 4\n",
      "2 34 5 5 555\n"
     ]
    },
    {
     "data": {
      "text/plain": [
       "[2, 34, 5, 5, 555]"
      ]
     },
     "execution_count": 9,
     "metadata": {},
     "output_type": "execute_result"
    }
   ],
   "source": [
    "a,q=input().split()\n",
    "ak=input().split()\n",
    "ak=[int(x) for x in ak]\n",
    "for i in range(0,int(q)):\n",
    "    k=input.split()\n",
    "    k=[int(x) for x in k]\n",
    "    if k[0]==1:\n",
    "        k[1]\n",
    "        \n",
    "    \n",
    "\n",
    "#d=[]\n",
    "#for i in range(0,int(a)):\n",
    "    "
   ]
  },
  {
   "cell_type": "code",
   "execution_count": null,
   "metadata": {},
   "outputs": [],
   "source": [
    "def profilepic(w,h,l):\n",
    "    if w<l or h<l:\n",
    "        print(\"UPLOAD ANOTHER\")\n",
    "    elif w==h:\n",
    "        print(\"ACCEPTED\")\n",
    "    else:\n",
    "        print(\"CROP IT\")\n",
    "l=int(input()) #180\n",
    "n=int(input())\n",
    "for i in range(1,n+1):\n",
    "    s=input().split()\n",
    "    w=int(s[0])\n",
    "    h=int(s[1])\n",
    "    profilepic(w,h,l)\n",
    "            \n",
    "\n",
    "\n",
    "\n",
    "\n",
    "\n"
   ]
  },
  {
   "cell_type": "code",
   "execution_count": null,
   "metadata": {},
   "outputs": [],
   "source": [
    "#logic1\n",
    "# Book of potion Making\n",
    "n= input()\n",
    "b = list(n)\n",
    "c = 1\n",
    "sum = 0\n",
    "for i in range(0, len(b)):\n",
    "   sum += c * int(b[i])\n",
    "   c += 1\n",
    "   \n",
    "if sum % 11 == 0:\n",
    "   print(\"Legal ISBN\")\n",
    "else:\n",
    "   print(\"Illegal ISBN\")\n",
    "\n",
    "\n",
    "#logic 2\n",
    "\n",
    "\n",
    "\n",
    "def BookofPotion(s):\n",
    "    sum=0\n",
    "    i=1\n",
    "    for a in range(1,11):\n",
    "        sum=sum+(s%10)*i\n",
    "        s = s // 10\n",
    "        i=i+1\n",
    "        \n",
    "    if(sum%11==0):\n",
    "        print(\"Legal ISBN\")\n",
    "    else:\n",
    "        print(\"Illegal ISBN\")\n",
    "    return \n",
    "\n",
    "\n",
    "s=int(input())\n",
    "BookofPotion(s)"
   ]
  },
  {
   "cell_type": "code",
   "execution_count": null,
   "metadata": {},
   "outputs": [],
   "source": [
    "def costofBallons(g,p,gc,pc):\n",
    "    sum=0\n",
    "    if(g==1 and p==1):\n",
    "        sum = gc + pc\n",
    "    elif(g == 1):\n",
    "        sum=sum+gc\n",
    "    elif(p == 1):\n",
    "        sum=sum+pc\n",
    "    else:\n",
    "        sum = sum + 0\n",
    "    return sum\n",
    "    \n",
    "b=int(input()) #2\n",
    "\n",
    "for i in (1,b+1):\n",
    "    prob=input().split()\n",
    "    if i == 1:\n",
    "        gc=int(prob[0])  # 9\n",
    "        pc=int(prob[1]) # 6\n",
    "    else:\n",
    "        gc=int(prob[1])  # 9\n",
    "        pc=int(prob[0])# 1\n",
    "    l=int(input())#10\n",
    "    rs = 0\n",
    "    for j in range(1,l+1):\n",
    "        k=input().split()\n",
    "        g=int(k[0])\n",
    "        p=int(k[1])\n",
    "        rs=rs+costofBallons(g,p,gc,pc)    \n",
    "    print(rs)\n"
   ]
  },
  {
   "cell_type": "code",
   "execution_count": null,
   "metadata": {},
   "outputs": [],
   "source": [
    "\n",
    "The parameter weekday is True if it is a weekday, and the parameter vacation is True if we are on vacation. We sleep in if it is not a weekday or we're on vacation. Return True if we sleep in.\n",
    "\n",
    "\n",
    "sleep_in(False, False) → True\n",
    "sleep_in(True, False) → False\n",
    "sleep_in(False, True) → True\n",
    "\n",
    "\n",
    "def sleep_in(weekday, vacation):\n",
    "  if not weekday or vacation:\n",
    "    return True\n",
    "  else:\n",
    "    return False\n",
    "sleep_in(False,False)    \n",
    "    "
   ]
  },
  {
   "cell_type": "code",
   "execution_count": null,
   "metadata": {},
   "outputs": [],
   "source": [
    "We have two monkeys, a and b, and the parameters a_smile and b_smile indicate if each is smiling. We are in trouble if they are both smiling or if neither of them is smiling. Return True if we are in trouble.\n",
    "\n",
    "\n",
    "monkey_trouble(True, True) → True\n",
    "monkey_trouble(False, False) → True\n",
    "monkey_trouble(True, False) → False\n",
    "\n",
    "def monkey_trouble(a, b):\n",
    "  if a and b:\n",
    "    return True\n",
    "  if not a and not b:\n",
    "    return True\n",
    "  return False\n"
   ]
  },
  {
   "cell_type": "code",
   "execution_count": null,
   "metadata": {},
   "outputs": [],
   "source": [
    "\n",
    "Given two int values, return their sum. Unless the two values are the same, then return double their sum.\n",
    "\n",
    "\n",
    "sum_double(1, 2) → 3\n",
    "sum_double(3, 2) → 5\n",
    "sum_double(2, 2) → 8\n",
    "\n",
    "\n",
    "\n",
    "def sum_double(a, b):\n",
    "  if a==b:\n",
    "    return (a+b)*2\n",
    "  else:\n",
    "    return ((a+b))\n",
    "\n",
    "sum_double(1, 2)    \n"
   ]
  },
  {
   "cell_type": "code",
   "execution_count": null,
   "metadata": {},
   "outputs": [],
   "source": [
    "\n",
    "Given an int n, return the absolute difference between n and 21, except return double the absolute difference if n is over 21.\n",
    "\n",
    "\n",
    "diff21(19) → 2\n",
    "diff21(10) → 11\n",
    "diff21(21) → 0\n",
    "\n",
    "\n",
    "\n",
    "def diff21(n):\n",
    "  if n<=21:\n",
    "    return 21-n\n",
    "  else:\n",
    "    return abs(21-n)*2\n"
   ]
  },
  {
   "cell_type": "code",
   "execution_count": null,
   "metadata": {},
   "outputs": [],
   "source": [
    "\n",
    "We have a loud talking parrot. The \"hour\" parameter is the current hour time in the range 0..23. We are in trouble if the parrot is talking and the hour is before 7 or after 20. Return True if we are in trouble.\n",
    "\n",
    "\n",
    "parrot_trouble(True, 6) → True\n",
    "parrot_trouble(True, 7) → False\n",
    "parrot_trouble(False, 6) → False\n",
    "\n",
    "def parrot_trouble(t, h):\n",
    "  if t and (h<7 or h>20):\n",
    "    return True\n",
    "  else:\n",
    "    return False\n",
    "    "
   ]
  },
  {
   "cell_type": "code",
   "execution_count": null,
   "metadata": {},
   "outputs": [],
   "source": [
    "\n",
    "Given 2 ints, a and b, return True if one if them is 10 or if their sum is 10.\n",
    "\n",
    "\n",
    "makes10(9, 10) → True\n",
    "makes10(9, 9) → False\n",
    "makes10(1, 9) → True\n",
    "\n",
    "def makes10(a, b):\n",
    "  if a==10 or b==10 or a+b==10:\n",
    "    return True\n",
    "  else:\n",
    "    return False\n",
    "\n",
    "\n",
    "\n"
   ]
  },
  {
   "cell_type": "code",
   "execution_count": null,
   "metadata": {},
   "outputs": [],
   "source": [
    "\n",
    "Given an int n, return True if it is within 10 of 100 or 200. Note: abs(num) computes the absolute value of a number.\n",
    "\n",
    "\n",
    "near_hundred(93) → True\n",
    "near_hundred(90) → True\n",
    "near_hundred(89) → False\n",
    "\n",
    "\n",
    "def near_hundred(n):\n",
    "  return ((abs(100 - n) <= 10) or (abs(200 - n) <= 10))"
   ]
  },
  {
   "cell_type": "code",
   "execution_count": null,
   "metadata": {},
   "outputs": [],
   "source": []
  },
  {
   "cell_type": "code",
   "execution_count": null,
   "metadata": {},
   "outputs": [],
   "source": []
  },
  {
   "cell_type": "code",
   "execution_count": null,
   "metadata": {},
   "outputs": [],
   "source": []
  },
  {
   "cell_type": "code",
   "execution_count": null,
   "metadata": {},
   "outputs": [],
   "source": []
  }
 ],
 "metadata": {
  "kernelspec": {
   "display_name": "Python 3",
   "language": "python",
   "name": "python3"
  },
  "language_info": {
   "codemirror_mode": {
    "name": "ipython",
    "version": 3
   },
   "file_extension": ".py",
   "mimetype": "text/x-python",
   "name": "python",
   "nbconvert_exporter": "python",
   "pygments_lexer": "ipython3",
   "version": "3.7.3"
  }
 },
 "nbformat": 4,
 "nbformat_minor": 2
}
