{
 "cells": [
  {
   "cell_type": "markdown",
   "metadata": {},
   "source": [
    "### PROBLEM SOLVING AND PROGRAMMING IN PYTHON\n",
    "###### DATE 14-JUNE-2019\n",
    "##### Day Objectives\n",
    "###### Python Data Structures\n",
    "* Lists\n",
    "* Tuples\n",
    "* Dictionaries\n",
    "\n",
    "\n",
    "Basic Problem set on Data Structures\n",
    "\n",
    "Advanced Problem Set\n",
    "\n",
    "Packages and Modules in Python"
   ]
  },
  {
   "cell_type": "code",
   "execution_count": null,
   "metadata": {},
   "outputs": [],
   "source": [
    "li=[123,3455,566]\n",
    "\n",
    "li\n",
    "li[1]\n",
    "li[0]\n",
    "li[::-1]\n",
    "li=li[::-1]\n",
    "li\n",
    "li[1::2]\n",
    "#lists can be accessed ,manupulated in two ways\n",
    "        #Direct referncing\n",
    "        #Indirect referncing\n",
    "li.append(555)#adds element to end of list[566, 3455, 123, 555]\n",
    "\n",
    "\n",
    "li.insert(1,234)#adding element at requried place [566, 234, 3455, 123, 555]\n",
    "\n",
    "li.sort()#sort elements in acending order[123, 234, 555, 566, 3455]\n",
    "\n",
    "li.pop()#remove last element in list[123, 234, 555, 566]\n",
    "\n",
    "li.pop(1)#remove the element at particular index[123, 555, 566]\n",
    "\n",
    "li2=[898,8998,99090,98000]\n",
    "# merge list2 to list 1\n",
    "li.extend(li2)#o/p:[123, 555, 566, 898, 8998, 99090, 98000]\n",
    "sum(li)# o/p 208230\n",
    "max(li)# o/p 99090\n",
    "len(li)# o/p 7\n",
    "sum(li)/len(li)# average 29747.142\n",
    "#average of all alternate elements\n",
    "sum(li[::2])/len(li[::2])# 0/p:107687 / 4 = 26921.75\n",
    "li[-2]\n",
    "li\n",
    "\n"
   ]
  },
  {
   "cell_type": "code",
   "execution_count": null,
   "metadata": {
    "scrolled": false
   },
   "outputs": [],
   "source": [
    "li=[123, 555, 566, 898, 8998, 99090, 98000]\n",
    "def sai(li,n):\n",
    "    li.sort()\n",
    "    print(li[-n])\n",
    "sai(li,3)"
   ]
  },
  {
   "cell_type": "code",
   "execution_count": null,
   "metadata": {},
   "outputs": [],
   "source": [
    "#  Function to saerch for data in alist\n",
    "#search for a key in the list and return the index value \n",
    "#li=[123, 555, 566, 898, 8998, 99090, 98000]\n",
    "def searchlist(li,key):\n",
    "    for i in range(0,len(li)):\n",
    "        if li[i]==key:\n",
    "            return i\n",
    "    return -1\n",
    "searchlist(li,898)\n",
    "#logic 2\n",
    "def searchlist2(li,key):\n",
    "    for i in li:\n",
    "        if i==key:\n",
    "            return li.index(i)\n",
    "    return -1\n",
    "searchlist2(li,898)\n",
    "# logic 3\n",
    "def searchlist3(li,key):\n",
    "    if key in li:\n",
    "        return li.index(key)\n",
    "    return -1\n",
    "searchlist2(li,898)\n",
    "    "
   ]
  },
  {
   "cell_type": "code",
   "execution_count": null,
   "metadata": {},
   "outputs": [],
   "source": [
    "# function to count the occurances of achracter in a string\n",
    "k=\"python programming\"\n",
    "def characteroccurances(k,n):\n",
    "    count=0\n",
    "    for i in k:\n",
    "        if i==n:\n",
    "            count+=1\n",
    "    return count\n",
    "characteroccurances(k,\"p\")\n",
    "#logic 2\n",
    "def chracteroccurances2(s,c):\n",
    "    return k.count(c)\n",
    "chracteroccurances2(k,\"py\")\n",
    "#logic 3\n",
    "# Function to find the number of occerences of a substring\n",
    "#\"abcabcddcbaaaa\", \"ab\" --> 2\n",
    "#\"abcabcddcbaaaa\", \"aa\" --> 3\n",
    "\n",
    "def countCharOccurences3(s,sb):\n",
    "    results = 0\n",
    "    sub_len = len(sb)\n",
    "    for i in range(len(s)):\n",
    "        if s[i:i+sub_len] == sb:\n",
    "            results += 1\n",
    "    return results\n",
    "countCharOccurences3(\"ABCDCDC\",\"CDC\")"
   ]
  },
  {
   "cell_type": "code",
   "execution_count": null,
   "metadata": {},
   "outputs": [],
   "source": [
    "s=\"1 2 3 3 4 4 55 5 5 5 \"\n",
    "s.split()\n",
    "\n",
    "\n"
   ]
  },
  {
   "cell_type": "code",
   "execution_count": null,
   "metadata": {},
   "outputs": [],
   "source": [
    "\n",
    "\n",
    "\n",
    "k=int(input())\n",
    "l=input()\n",
    "p=[]\n",
    "w=[]\n",
    "u=l.split()\n",
    "for i in u:\n",
    "    p.append(int(i))\n",
    "print(p)\n",
    "if min(p)==0:\n",
    "    print(0)\n",
    "elif min(p)!=0:\n",
    "    for j in p:\n",
    "        w.append(abs(j))\n",
    "print(w)\n",
    "if min(w) in p:\n",
    "    print(min(w))\n",
    "else:\n",
    "    print(-min(w))\n",
    "\n",
    "\n",
    "\n",
    "if max(w) in p:\n",
    "    print(max(w))\n",
    "else:\n",
    "    print(-max(w))\n",
    "\n",
    "\n"
   ]
  },
  {
   "cell_type": "markdown",
   "metadata": {},
   "source": [
    "### "
   ]
  },
  {
   "cell_type": "code",
   "execution_count": null,
   "metadata": {},
   "outputs": [],
   "source": [
    "#question 3\n",
    "k=int(input())\n",
    "l=input()\n",
    "p=[]\n",
    "w=[]\n",
    "u=l.split()\n",
    "for i in u:\n",
    "    p.append(int(i))\n",
    "print(p)\n",
    "try:\n",
    "    for j in range (p[2],p[0]-1,-1):\n",
    "        if j%p[0]==p[1]:\n",
    "    \n",
    "    print(o)\n",
    "except:\n",
    "    print(-1)\n",
    "    \n",
    "\n",
    "        \n",
    "    \n"
   ]
  },
  {
   "cell_type": "code",
   "execution_count": null,
   "metadata": {},
   "outputs": [],
   "source": [
    "n=int(input(\"enter range: \"))\n",
    "for i in range(n):\n",
    "    abc=input(\"Enter abc:\").split()\n",
    "    a=int(abc[0])\n",
    "    b=int(abc[1])\n",
    "    c=int(abc[2])\n",
    "    print(divisible(a,b,c))\n",
    "def "
   ]
  },
  {
   "cell_type": "code",
   "execution_count": 14,
   "metadata": {},
   "outputs": [
    {
     "name": "stdout",
     "output_type": "stream",
     "text": [
      "2\n",
      "3\n"
     ]
    }
   ],
   "source": [
    "def prime():\n",
    "    #n=int(input('enter 1st no  : '))\n",
    "   # u=int(input('enter no  : '))\n",
    "    sum=0\n",
    "    count=0\n",
    "    pr=[]\n",
    "    for num in range(1,5):\n",
    "        if num > 1:\n",
    "           for i in range(2,num):\n",
    "              #print(i)\n",
    "              if (num % i) == 0:\n",
    "                   break\n",
    "           else:\n",
    "               print(num)\n",
    "prime()\n"
   ]
  },
  {
   "cell_type": "code",
   "execution_count": null,
   "metadata": {},
   "outputs": [],
   "source": [
    "def Fibonacci(n): \n",
    "    if n<0: \n",
    "        print(\"Incorrect input\") \n",
    "    elif n==1: \n",
    "        return 0 \n",
    "    elif n==2: \n",
    "        return 1\n",
    "    else: \n",
    "        return Fibonacci(n-1)+Fibonacci(n-2) \n",
    "Fibonacci(6)  "
   ]
  },
  {
   "cell_type": "code",
   "execution_count": null,
   "metadata": {},
   "outputs": [],
   "source": [
    "K=\"Sai\"\n",
    "print(K.islower())"
   ]
  },
  {
   "cell_type": "code",
   "execution_count": null,
   "metadata": {},
   "outputs": [],
   "source": []
  },
  {
   "cell_type": "markdown",
   "metadata": {},
   "source": [
    "#### Day Objectives\n",
    "\n",
    "Basic Problem Set on Hackerearth ( Basic I / O category)\n",
    "\n",
    "* Count Divisors\n",
    "\n",
    "* Factorial\n",
    "\n",
    "* Toggle String\n",
    "\n",
    "* Palindrome\n",
    "\n",
    "* Prime Numbers\n",
    "\n",
    "* Two Strings\n",
    "\n",
    "* Duration\n",
    "\n",
    "* Char Sum\n",
    "\n",
    "* Play with Numbers"
   ]
  },
  {
   "cell_type": "code",
   "execution_count": null,
   "metadata": {},
   "outputs": [],
   "source": [
    "### FACTORIAL\n",
    "k= int(input())\n",
    "s=1\n",
    "if k==0:\n",
    "    print(0)\n",
    "else:\n",
    "    for i in range(1,k+1):\n",
    "        s=s*i\n",
    "    print(s)"
   ]
  },
  {
   "cell_type": "code",
   "execution_count": null,
   "metadata": {},
   "outputs": [],
   "source": [
    "#Count Divisors\n",
    "\n",
    "l=[]\n",
    "k=input()\n",
    "p=k.split()\n",
    "count=0\n",
    "for i in p:\n",
    "    l.append(int(i))\n",
    "for j in range(l[0],l[1]+1):\n",
    "    if j%l[2]==0:\n",
    "        count+=1\n",
    "print(count)"
   ]
  },
  {
   "cell_type": "code",
   "execution_count": null,
   "metadata": {},
   "outputs": [],
   "source": [
    "#Toggle String\n",
    "k=input()\n",
    "for i in k:\n",
    "    if i.isupper():\n",
    "        print(i.lower(),end='')\n",
    "    else:\n",
    "        print(i.upper(),end='')\n",
    "        "
   ]
  },
  {
   "cell_type": "code",
   "execution_count": null,
   "metadata": {},
   "outputs": [],
   "source": [
    "#Palindromic String\n",
    "k=input()\n",
    "if k==k[::-1]:\n",
    "    print(\"YES\")\n",
    "else:\n",
    "    print(\"NO\")"
   ]
  },
  {
   "cell_type": "code",
   "execution_count": null,
   "metadata": {},
   "outputs": [],
   "source": [
    "#Prime Number\n",
    "n=int(input())\n",
    "for i in range(1,n+1):\n",
    "    count= 0\n",
    "    for j in range(1,n+1):\n",
    "        if i%j == 0:\n",
    "            count=count+1\n",
    "    if count == 2:\n",
    "        print(i,end=\" \")"
   ]
  },
  {
   "cell_type": "code",
   "execution_count": null,
   "metadata": {},
   "outputs": [],
   "source": [
    "5//6"
   ]
  },
  {
   "cell_type": "code",
   "execution_count": null,
   "metadata": {},
   "outputs": [],
   "source": [
    "a,b,c,d=input().split()\n",
    "print(a,b,c,d)"
   ]
  },
  {
   "cell_type": "code",
   "execution_count": null,
   "metadata": {},
   "outputs": [],
   "source": [
    "#k=int(input())\n",
    "u=input()\n",
    "i=u.split()\n",
    "print(i)\n"
   ]
  },
  {
   "cell_type": "code",
   "execution_count": null,
   "metadata": {},
   "outputs": [],
   "source": [
    "sai=\"sai\"\n",
    "print(sorted(sai.split()))\n"
   ]
  },
  {
   "cell_type": "code",
   "execution_count": null,
   "metadata": {
    "scrolled": true
   },
   "outputs": [],
   "source": [
    "#twostrings\n",
    "s1=input()\n",
    "s2=input()\n",
    "def stringPermutations(s1,s2):\n",
    "    if s1 == s2:\n",
    "        print(\"YES\")\n",
    "    else:\n",
    "        print(\"NO\")\n",
    "    for i in range(1,(int(input()))+1):\n",
    "        s1,s2=input().split()\n",
    "stringPermutations(sorted(s1),sorted(s2))"
   ]
  },
  {
   "cell_type": "code",
   "execution_count": null,
   "metadata": {},
   "outputs": [],
   "source": [
    "k=\"sai\"\n",
    "l=k.split()\n",
    "print(l)\n",
    "print(sorted(l))"
   ]
  },
  {
   "cell_type": "code",
   "execution_count": null,
   "metadata": {},
   "outputs": [],
   "source": [
    "k=\"sai\"\n",
    "print(sorted(k))"
   ]
  },
  {
   "cell_type": "code",
   "execution_count": null,
   "metadata": {},
   "outputs": [],
   "source": [
    "a=['a', 'i', 's']\n",
    "b=['a', 'i', 'o']\n",
    "if a==b:\n",
    "    print(\"y\")\n",
    "else:\n",
    "    print(\"n\")"
   ]
  },
  {
   "cell_type": "code",
   "execution_count": null,
   "metadata": {},
   "outputs": [],
   "source": [
    "k=input().split()\n",
    "#print(k)\n",
    "#l=[k[0],k[1]]\n",
    "l=[]\n",
    "for i in k:\n",
    "    #print(sorted(i))\n",
    "   # print(i)\n",
    "   \n",
    "    #print(sorted(i))\n",
    "    l.append(sorted(i))\n",
    "print(l)\n",
    "if l[0]==l[1]:\n",
    "    print(\"YES\")\n",
    "else:\n",
    "    print(\"NO\")\n"
   ]
  },
  {
   "cell_type": "code",
   "execution_count": null,
   "metadata": {},
   "outputs": [],
   "source": [
    "# two strings\n",
    "n=int(input())\n",
    "def twostrings(f,s):\n",
    "    f1=1\n",
    "    if len(f)!=len(s):\n",
    "        return 'NO'\n",
    "    else:\n",
    "        for i in range(len(f)):\n",
    "            if f.count(f[i])!=s.count(f[i]):\n",
    "                return 'NO'\n",
    "        if f1==1:\n",
    "                return 'YES'\n",
    "for i in range(n):\n",
    "    st=input().split()\n",
    "    f=st[0]\n",
    "    s=st[1]\n",
    "    print(twostrings(f,s))\n",
    "\n"
   ]
  },
  {
   "cell_type": "code",
   "execution_count": null,
   "metadata": {},
   "outputs": [],
   "source": [
    "#char sum\n",
    "def charsum(s):\n",
    "    sum=0\n",
    "    for i in s:\n",
    "        sum+=ord(i)-96\n",
    "    print(sum)\n",
    "charsum(input())\n"
   ]
  },
  {
   "cell_type": "code",
   "execution_count": null,
   "metadata": {},
   "outputs": [],
   "source": [
    "#Duration\n",
    "def duration(sh,sm,eh,em):\n",
    "    a=(sh*60)+sm\n",
    "    b=(eh*60)+em\n",
    "    c=b-a\n",
    "    d=c//60\n",
    "    e=c%60\n",
    "    print(d,e)\n",
    "    \n",
    "    \n",
    "n=int(input())\n",
    "for i in range(n):\n",
    "    s=input().split()\n",
    "    sh=int(s[0])\n",
    "    sm=int(s[1])\n",
    "    eh=int(s[2])\n",
    "    em=int(s[3])\n",
    "    duration(sh,sm,eh,em)\n",
    "    \n",
    "#logic2\n",
    "def workingHours(w):\n",
    "   for i in range(1,w+1):\n",
    "       SH,SM,EH,EM = input().split()\n",
    "       if (60-int(SM)+int(EM))>=60:\n",
    "           print((int(EH)-int(SH)-1)+1,end=\" \")\n",
    "           print((60-int(SM)+int(EM))-60)\n",
    "       else:\n",
    "           print(int(EH)-int(SH)-1,end=\" \")\n",
    "           print((60-int(SM)+int(EM)))\n",
    "workingHours(int(input()))\n"
   ]
  },
  {
   "cell_type": "code",
   "execution_count": null,
   "metadata": {},
   "outputs": [],
   "source": [
    "#play with numbers\n",
    "p=input().split()\n",
    "k=[]\n",
    "#print(p[0])\n",
    "w=input().split()[:int(p[0])]\n",
    "# 1 2 3 4 5\n",
    "# 0 1 2 3 4 \n",
    "#print(w)\n",
    "for kk in range(0,int(p[1])):\n",
    "    l=input().split()\n",
    "    sum=0\n",
    "    count=0\n",
    "    for ii in range(int(l[0]),int(l[1])+1):\n",
    "                sum=sum+int(w[ii-1])\n",
    "                #print(sum)\n",
    "                count+=1\n",
    "    print(sum//count)\n",
    "   \n",
    "                    \n",
    "                    \n",
    "                    \n"
   ]
  },
  {
   "cell_type": "code",
   "execution_count": null,
   "metadata": {},
   "outputs": [],
   "source": []
  },
  {
   "cell_type": "code",
   "execution_count": null,
   "metadata": {},
   "outputs": [],
   "source": [
    "j=[1, 2, 3, 4, 5]\n",
    "print(j.index(2))"
   ]
  },
  {
   "cell_type": "code",
   "execution_count": null,
   "metadata": {},
   "outputs": [],
   "source": [
    "l=[2,4]\n",
    "k=[1, 2, 3, 4, 5]\n",
    "count=0\n",
    "sum=0\n",
    "\n",
    "for ii in range(int(l[0])-1,int(l[1])):\n",
    "    #print(k[ii])\n",
    "    sum=sum+k[ii]\n",
    "    count+=1\n",
    "print(sum//count)\n",
    "   "
   ]
  },
  {
   "cell_type": "code",
   "execution_count": 2,
   "metadata": {},
   "outputs": [
    {
     "name": "stdout",
     "output_type": "stream",
     "text": [
      "5 2\n",
      "1 2 3 4 5 6 7 8 9\n",
      "['1', '2', '3', '4', '5']\n"
     ]
    }
   ],
   "source": [
    "p=input().split()\n",
    "#print(p[0])\n",
    "w=input().split()[:int(p[0])]\n",
    "print(w)\n",
    "\n"
   ]
  },
  {
   "cell_type": "code",
   "execution_count": null,
   "metadata": {},
   "outputs": [],
   "source": [
    "def isprime()"
   ]
  },
  {
   "cell_type": "code",
   "execution_count": 1,
   "metadata": {},
   "outputs": [
    {
     "data": {
      "text/plain": [
       "2"
      ]
     },
     "execution_count": 1,
     "metadata": {},
     "output_type": "execute_result"
    }
   ],
   "source": [
    "def countCharOccurences3(s,sb):\n",
    "    results = 0\n",
    "    sub_len = len(sb)\n",
    "    for i in range(len(s)):\n",
    "        if s[i:i+sub_len] == sb:\n",
    "            results += 1\n",
    "    return results\n",
    "countCharOccurences3(\"ABCDCDC\",\"CDC\")"
   ]
  },
  {
   "cell_type": "code",
   "execution_count": null,
   "metadata": {},
   "outputs": [],
   "source": [
    "\n"
   ]
  }
 ],
 "metadata": {
  "kernelspec": {
   "display_name": "Python 3",
   "language": "python",
   "name": "python3"
  },
  "language_info": {
   "codemirror_mode": {
    "name": "ipython",
    "version": 3
   },
   "file_extension": ".py",
   "mimetype": "text/x-python",
   "name": "python",
   "nbconvert_exporter": "python",
   "pygments_lexer": "ipython3",
   "version": "3.7.3"
  }
 },
 "nbformat": 4,
 "nbformat_minor": 2
}
