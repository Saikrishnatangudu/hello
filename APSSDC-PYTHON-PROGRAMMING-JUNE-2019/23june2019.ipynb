{
 "cells": [
  {
   "cell_type": "code",
   "execution_count": null,
   "metadata": {},
   "outputs": [],
   "source": [
    "#Function to get unique elements in a list\n",
    "# [1,2,3,4,5,5,6,6,4]-->[1,2,3,4,5,6]\n",
    "def uniquedata(li):\n",
    "    unique=[]\n",
    "    #for every element in main list check if it is in unique list\n",
    "    #if it is already exists move to next element\n",
    "    for e in li:\n",
    "        if e not in unique:\n",
    "            unique.append(e)\n",
    "    return unique\n",
    "uniquedata([1,2,3,4,5,5,6,6,4])"
   ]
  },
  {
   "cell_type": "code",
   "execution_count": null,
   "metadata": {},
   "outputs": [],
   "source": [
    "#Function to get unique data in a file\n",
    "\n",
    "#k=input(\"file name with path\")\n",
    "#l=input(\" enter unique word \")\n",
    "count=0\n",
    "unique=[]\n",
    "f=open(\"datafiles/data.txt\",\"r\")\n",
    "p=f.read().split()\n",
    "#print(p)\n",
    "#j=list(dict.fromkeys(p))\n",
    "#print(j)\n",
    "#print(len(j))\n",
    "#k=set(p)\n",
    "#print(k)\n",
    "#print(len(k))\n",
    "for e in p:\n",
    "    if e not in unique:\n",
    "        unique.append(e)\n",
    "#print(unique)\n",
    "print(len(unique))"
   ]
  },
  {
   "cell_type": "code",
   "execution_count": null,
   "metadata": {},
   "outputs": [],
   "source": [
    "# Function to print frequency count of a text file\n",
    "# Frequency distribution\n",
    "#k=input(\"file name with path\")\n",
    "l=input(\" enter unique word \")\n",
    "count=0\n",
    "f=open(\"datafiles/gg.txt\",\"r\")\n",
    "p=f.read().split()\n",
    "#print(p)\n",
    "for i in p:\n",
    "    if l==i:\n",
    "        count=count+1\n",
    "print(l,\":\",count)"
   ]
  },
  {
   "cell_type": "code",
   "execution_count": null,
   "metadata": {},
   "outputs": [],
   "source": [
    "#\n",
    "\n",
    "def freqdist(a):\n",
    "    #dictionary to be used\n",
    "        #keys->unique words\n",
    "        #values->count of unique words\n",
    "    #two lists\n",
    "        #all words list\n",
    "        #unique word list\n",
    "        count=0\n",
    "        unique=[]\n",
    "        f=open(a,\"r\")\n",
    "        p=f.read().split()\n",
    "        print(p)\n",
    "        for e in p:\n",
    "            if e not in unique:\n",
    "                unique.append(e)\n",
    "        print(unique)\n",
    "        for word in unique:\n",
    "            c=p.count(word)\n",
    "            print(word,':',c)\n",
    "        return\n",
    "        \n",
    "        \n",
    "        \n",
    "freqdist(\"datafiles/gg.txt\")    \n",
    "    \n",
    "\n",
    "\n",
    "\n",
    "\n",
    "\n",
    "\n"
   ]
  },
  {
   "cell_type": "code",
   "execution_count": null,
   "metadata": {},
   "outputs": [],
   "source": []
  },
  {
   "cell_type": "code",
   "execution_count": null,
   "metadata": {},
   "outputs": [],
   "source": [
    "# contact application\n",
    "    # add ,search,list,modify,delete contacts\n",
    "# find and replace application\n",
    "    # count the total number of occurances\n",
    "    # if word is existing\n",
    "    # replace all occurances of  word with another\n",
    "# marks analysis applications\n",
    "    # genrate marks file for n students\n",
    "    # input : marks text file-each line in the text file contains marks of one student\n",
    "    # it genrates a report with the following information\n",
    "        # class average\n",
    "        # % of students passed\n",
    "        # % of students failed\n",
    "        # % of students with distinction"
   ]
  },
  {
   "cell_type": "code",
   "execution_count": 31,
   "metadata": {},
   "outputs": [],
   "source": [
    "# function to genrate marks data for n students\n",
    "from random import randint\n",
    "def genratemarks(n,lb,ub):\n",
    "    with open('datafiles/marks.txt','w') as f:\n",
    "        for i in range(n):\n",
    "            r=randint(0,25)\n",
    "            f.write(str(r)+\"   \")\n",
    "            r=randint(0,25)\n",
    "            f.write(str(r)+\"   \")\n",
    "            r=randint(lb,ub)\n",
    "            f.write(str(r)+'\\n')\n",
    "            \n",
    "        return\n",
    "genratemarks(100,0,75)\n",
    "\n",
    "\n"
   ]
  },
  {
   "cell_type": "code",
   "execution_count": 36,
   "metadata": {
    "scrolled": true
   },
   "outputs": [
    {
     "name": "stdout",
     "output_type": "stream",
     "text": [
      "class average 50.398989898989896\n",
      "% of students got distintion : 13.131313131313133\n",
      "% of students got passed : 71.71717171717171\n",
      "% of students got fail : 28.28282828282828\n",
      "Frequency of Highest mark 93.5 : 1\n",
      "Frequency of lowest mark 8.5 : 1\n"
     ]
    }
   ],
   "source": [
    "def report(file):\n",
    "    f=open(file,'r')\n",
    "    k=[]\n",
    "    for i in f:\n",
    "        p=i.split()\n",
    "        #print(p)\n",
    "        p.append((((int(p[0])+int(p[1]))/2)+int(p[2])))\n",
    "        #print(p)\n",
    "        k.append(p[3])\n",
    "        #f=open('datafiles/result.txt','a')\n",
    "        #f.write(str(p)+'\\n')\n",
    "    #print(k)\n",
    "    ku=max(k)\n",
    "    pu=min(k)\n",
    "    dis=0\n",
    "    fail=0\n",
    "    pas=0\n",
    "    for jj in k:\n",
    "        if jj>75:\n",
    "            dis+=1\n",
    "    for jj in k:\n",
    "        if jj<35:\n",
    "            fail+=1\n",
    "        elif jj>35:\n",
    "            pas+=1\n",
    "    classaverage=sum(k)/(pas+fail)\n",
    "    print('class average',classaverage)\n",
    "    print('% of students got distintion :',((dis/(pas+fail))*100))\n",
    "    print('% of students got passed :',((pas/(pas+fail))*100))\n",
    "    print('% of students got fail :' ,((fail/(pas+fail))*100))\n",
    "    ku=max(k)\n",
    "    #print(max(k))\n",
    "    maxfreq=k.count(ku)\n",
    "    print('Frequency of Highest mark',ku,':',maxfreq)\n",
    "    pu=min(k)\n",
    "    minfreq=k.count(pu)\n",
    "    print('Frequency of lowest mark',pu,':',minfreq)\n",
    "    return\n",
    "report('datafiles/marks.txt')"
   ]
  },
  {
   "cell_type": "code",
   "execution_count": null,
   "metadata": {},
   "outputs": [],
   "source": []
  }
 ],
 "metadata": {
  "kernelspec": {
   "display_name": "Python 3",
   "language": "python",
   "name": "python3"
  },
  "language_info": {
   "codemirror_mode": {
    "name": "ipython",
    "version": 3
   },
   "file_extension": ".py",
   "mimetype": "text/x-python",
   "name": "python",
   "nbconvert_exporter": "python",
   "pygments_lexer": "ipython3",
   "version": "3.7.3"
  }
 },
 "nbformat": 4,
 "nbformat_minor": 2
}
