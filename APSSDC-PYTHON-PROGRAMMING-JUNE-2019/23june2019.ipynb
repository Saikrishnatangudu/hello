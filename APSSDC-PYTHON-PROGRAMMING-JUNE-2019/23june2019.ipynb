{
 "cells": [
  {
   "cell_type": "code",
   "execution_count": 4,
   "metadata": {},
   "outputs": [
    {
     "data": {
      "text/plain": [
       "[1, 2, 3, 4, 5, 6]"
      ]
     },
     "execution_count": 4,
     "metadata": {},
     "output_type": "execute_result"
    }
   ],
   "source": [
    "#Function to get unique elements in a list\n",
    "# [1,2,3,4,5,5,6,6,4]-->[1,2,3,4,5,6]\n",
    "def uniquedata(li):\n",
    "    unique=[]\n",
    "    #for every element in main list check if it is in unique list\n",
    "    #if it is already exists move to next element\n",
    "    for e in li:\n",
    "        if e not in unique:\n",
    "            unique.append(e)\n",
    "    return unique\n",
    "uniquedata([1,2,3,4,5,5,6,6,4])"
   ]
  },
  {
   "cell_type": "code",
   "execution_count": null,
   "metadata": {},
   "outputs": [],
   "source": [
    "#Function to get unique data in a file\n",
    "\n",
    "#k=input(\"file name with path\")\n",
    "#l=input(\" enter unique word \")\n",
    "count=0\n",
    "unique=[]\n",
    "f=open(\"datafiles/data.txt\",\"r\")\n",
    "p=f.read().split()\n",
    "#print(p)\n",
    "#j=list(dict.fromkeys(p))\n",
    "#print(j)\n",
    "#print(len(j))\n",
    "#k=set(p)\n",
    "#print(k)\n",
    "#print(len(k))\n",
    "for e in p:\n",
    "    if e not in unique:\n",
    "        unique.append(e)\n",
    "#print(unique)\n",
    "print(len(unique))"
   ]
  },
  {
   "cell_type": "code",
   "execution_count": 11,
   "metadata": {},
   "outputs": [
    {
     "name": "stdout",
     "output_type": "stream",
     "text": [
      " enter unique word line\n",
      "line : 4\n"
     ]
    }
   ],
   "source": [
    "# Function to print frdequency count of a text file\n",
    "# Frequency distribution\n",
    "#k=input(\"file name with path\")\n",
    "l=input(\" enter unique word \")\n",
    "count=0\n",
    "f=open(\"datafiles/gg.txt\",\"r\")\n",
    "p=f.read().split()\n",
    "#print(p)\n",
    "for i in p:\n",
    "    if l==i:\n",
    "        count=count+1\n",
    "print(l,\":\",count)"
   ]
  },
  {
   "cell_type": "code",
   "execution_count": null,
   "metadata": {},
   "outputs": [],
   "source": []
  },
  {
   "cell_type": "code",
   "execution_count": null,
   "metadata": {},
   "outputs": [],
   "source": []
  },
  {
   "cell_type": "code",
   "execution_count": null,
   "metadata": {},
   "outputs": [],
   "source": []
  },
  {
   "cell_type": "code",
   "execution_count": null,
   "metadata": {},
   "outputs": [],
   "source": []
  },
  {
   "cell_type": "code",
   "execution_count": null,
   "metadata": {},
   "outputs": [],
   "source": []
  },
  {
   "cell_type": "code",
   "execution_count": null,
   "metadata": {},
   "outputs": [],
   "source": []
  }
 ],
 "metadata": {
  "kernelspec": {
   "display_name": "Python 3",
   "language": "python",
   "name": "python3"
  },
  "language_info": {
   "codemirror_mode": {
    "name": "ipython",
    "version": 3
   },
   "file_extension": ".py",
   "mimetype": "text/x-python",
   "name": "python",
   "nbconvert_exporter": "python",
   "pygments_lexer": "ipython3",
   "version": "3.7.3"
  }
 },
 "nbformat": 4,
 "nbformat_minor": 2
}
