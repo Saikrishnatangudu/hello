{
 "cells": [
  {
   "cell_type": "code",
   "execution_count": 1,
   "metadata": {},
   "outputs": [],
   "source": [
    "import re\n",
    "# Function to check if contact already exists\n",
    "def contactexists(name):\n",
    "    filename = 'dataFiles/contacts.txt'\n",
    "    with open(filename, 'r') as f:\n",
    "        filedata = f.read()\n",
    "        pattern = name+','\n",
    "    return re.search(pattern, filedata)\n",
    "            \n"
   ]
  },
  {
   "cell_type": "code",
   "execution_count": null,
   "metadata": {},
   "outputs": [],
   "source": [
    "#Function to add contact text file\n",
    "from packages.validaters import phonenumbervalidator as pnv, emailvalidator as ev\n",
    "\n",
    "def addcontact(name,phone,email):  \n",
    "    #store data as name phone email in the contact\n",
    "    filename=\"datafiles/contacts.txt\"\n",
    "    if not contactexists(name):\n",
    "        if pnv(phone) and ev(email):\n",
    "            with open (filename,\"a\") as f:\n",
    "                line = name+','+str(phone)+','+email + '\\n'\n",
    "                f.write(line)\n",
    "            print(name,'added to contacts')\n",
    "        else:\n",
    "            print('invalid phone number or invalid emailid')\n",
    "            return\n",
    "    else:\n",
    "        print(name,'already exits')\n",
    "    return    \n",
    "#addcontact(\"name2\",9542826828,\"sai_52@gmail.com\")\n"
   ]
  },
  {
   "cell_type": "code",
   "execution_count": 12,
   "metadata": {},
   "outputs": [
    {
     "name": "stdout",
     "output_type": "stream",
     "text": [
      "name2\n",
      "name1,9542826838,saikrishnatangudu52@gmail.com\n"
     ]
    }
   ],
   "source": [
    "#search contacts\n",
    "import re\n",
    "def searchcontacts(name):\n",
    "    filepath=\"datafiles/contacts.txt\"\n",
    "    if contactexists(name):\n",
    "        with open(filepath,'r') as f:\n",
    "            fd=f.read()\n",
    "            p='[\\n]'\n",
    "            list=re.split(p,fd)\n",
    "            for i in list:\n",
    "                for j in range(len(list)):\n",
    "                    if name ==list[j][:len(name)]:\n",
    "                        print(list[j][:len(name)])\n",
    "                        return i\n",
    "            return\n",
    "print(searchcontacts('name2'))\n",
    "            "
   ]
  },
  {
   "cell_type": "code",
   "execution_count": null,
   "metadata": {},
   "outputs": [],
   "source": []
  },
  {
   "cell_type": "code",
   "execution_count": null,
   "metadata": {},
   "outputs": [],
   "source": []
  },
  {
   "cell_type": "code",
   "execution_count": null,
   "metadata": {},
   "outputs": [],
   "source": []
  }
 ],
 "metadata": {
  "kernelspec": {
   "display_name": "Python 3",
   "language": "python",
   "name": "python3"
  },
  "language_info": {
   "codemirror_mode": {
    "name": "ipython",
    "version": 3
   },
   "file_extension": ".py",
   "mimetype": "text/x-python",
   "name": "python",
   "nbconvert_exporter": "python",
   "pygments_lexer": "ipython3",
   "version": "3.7.3"
  }
 },
 "nbformat": 4,
 "nbformat_minor": 2
}
