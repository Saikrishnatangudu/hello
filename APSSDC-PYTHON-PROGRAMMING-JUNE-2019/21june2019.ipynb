{
 "cells": [
  {
   "cell_type": "code",
   "execution_count": 1,
   "metadata": {
    "scrolled": false
   },
   "outputs": [
    {
     "name": "stdout",
     "output_type": "stream",
     "text": [
      "name2 added to contacts\n"
     ]
    }
   ],
   "source": [
    "import re\n",
    "# Function to check if contact already exists\n",
    "def checkcontactexists(name):\n",
    "    filename = 'dataFiles/contacts.txt'\n",
    "    with open(filename, 'r') as f:\n",
    "        filedata = f.read()\n",
    "        pattern = name+','\n",
    "    return re.search(pattern, filedata)\n",
    "            \n",
    "#Function to add contact text file\n",
    "from packages.validaters import phonenumbervalidator as pnv, emailvalidator as ev\n",
    "\n",
    "def addcontact(name,phone,email):  \n",
    "    #store data as name phone email in the contact\n",
    "    filename=\"datafiles/contacts.txt\"\n",
    "    if not checkcontactexists(name):\n",
    "        if pnv(phone) and ev(email):\n",
    "            with open (filename,\"a\") as f:\n",
    "                line = name+','+str(phone)+','+email + '\\n'\n",
    "                f.write(line)\n",
    "            print(name,'added to contacts')\n",
    "        else:\n",
    "            print('invalid phone number or invalid emailid')\n",
    "            return\n",
    "    else:\n",
    "        print(name,'already exits')\n",
    "    return    \n",
    "addcontact(\"name2\",9542826828,\"sai_52@gmail.com\")\n",
    "\n"
   ]
  },
  {
   "cell_type": "code",
   "execution_count": null,
   "metadata": {},
   "outputs": [],
   "source": [
    "import re\n",
    "# Function to check if contact already exists\n",
    "def checkContactExists(name):\n",
    "    filename = 'dataFiles/contacts.txt'\n",
    "    with open(filename, 'r') as f:\n",
    "        filedata = f.read()\n",
    "        pattern = name+','\n",
    "    return re.search(pattern, filedata)            "
   ]
  },
  {
   "cell_type": "code",
   "execution_count": null,
   "metadata": {},
   "outputs": [],
   "source": [
    "filename = 'dataFiles/contacts.txt'\n",
    "def csvToList(filename):\n",
    "    li = []\n",
    "    with open(filename, 'r') as f:\n",
    "        for line in f:\n",
    "            li.append(line.split(','))\n",
    "    return li\n",
    "\n",
    "def listToFile(li):\n",
    "    s = ''\n",
    "    for i in li:\n",
    "        s += ','.join(i)\n",
    "    return s\n",
    "    \n",
    "li = csvToList(filename)\n",
    "listToFile(li)"
   ]
  },
  {
   "cell_type": "code",
   "execution_count": null,
   "metadata": {},
   "outputs": [],
   "source": []
  }
 ],
 "metadata": {
  "kernelspec": {
   "display_name": "Python 3",
   "language": "python",
   "name": "python3"
  },
  "language_info": {
   "codemirror_mode": {
    "name": "ipython",
    "version": 3
   },
   "file_extension": ".py",
   "mimetype": "text/x-python",
   "name": "python",
   "nbconvert_exporter": "python",
   "pygments_lexer": "ipython3",
   "version": "3.7.3"
  }
 },
 "nbformat": 4,
 "nbformat_minor": 2
}
